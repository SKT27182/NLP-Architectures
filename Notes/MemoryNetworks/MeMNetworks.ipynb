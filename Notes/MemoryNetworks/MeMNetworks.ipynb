{
  "nbformat": 4,
  "nbformat_minor": 0,
  "metadata": {
    "colab": {
      "provenance": [],
      "gpuType": "T4"
    },
    "kernelspec": {
      "name": "python3",
      "display_name": "Python 3"
    },
    "language_info": {
      "name": "python"
    },
    "widgets": {
      "application/vnd.jupyter.widget-state+json": {
        "7b441a8b71d04bc3af0eb9f1d0f32c42": {
          "model_module": "@jupyter-widgets/controls",
          "model_name": "HBoxModel",
          "model_module_version": "1.5.0",
          "state": {
            "_dom_classes": [],
            "_model_module": "@jupyter-widgets/controls",
            "_model_module_version": "1.5.0",
            "_model_name": "HBoxModel",
            "_view_count": null,
            "_view_module": "@jupyter-widgets/controls",
            "_view_module_version": "1.5.0",
            "_view_name": "HBoxView",
            "box_style": "",
            "children": [
              "IPY_MODEL_b5c10e85bdd5433b8ceac348b23198aa",
              "IPY_MODEL_6219468ee61e4178ada418a46b1380fd",
              "IPY_MODEL_e9953eef547241959aab08b145c09420"
            ],
            "layout": "IPY_MODEL_2ac5deede5c444c0b83a314c5317b1a6"
          }
        },
        "b5c10e85bdd5433b8ceac348b23198aa": {
          "model_module": "@jupyter-widgets/controls",
          "model_name": "HTMLModel",
          "model_module_version": "1.5.0",
          "state": {
            "_dom_classes": [],
            "_model_module": "@jupyter-widgets/controls",
            "_model_module_version": "1.5.0",
            "_model_name": "HTMLModel",
            "_view_count": null,
            "_view_module": "@jupyter-widgets/controls",
            "_view_module_version": "1.5.0",
            "_view_name": "HTMLView",
            "description": "",
            "description_tooltip": null,
            "layout": "IPY_MODEL_1033193871514a8eba9aaccb717406b8",
            "placeholder": "​",
            "style": "IPY_MODEL_976e922fe17a48e0830f08d3824e854c",
            "value": "100%"
          }
        },
        "6219468ee61e4178ada418a46b1380fd": {
          "model_module": "@jupyter-widgets/controls",
          "model_name": "FloatProgressModel",
          "model_module_version": "1.5.0",
          "state": {
            "_dom_classes": [],
            "_model_module": "@jupyter-widgets/controls",
            "_model_module_version": "1.5.0",
            "_model_name": "FloatProgressModel",
            "_view_count": null,
            "_view_module": "@jupyter-widgets/controls",
            "_view_module_version": "1.5.0",
            "_view_name": "ProgressView",
            "bar_style": "success",
            "description": "",
            "description_tooltip": null,
            "layout": "IPY_MODEL_aab2c4f101894cc491e320e1e49f97c7",
            "max": 2,
            "min": 0,
            "orientation": "horizontal",
            "style": "IPY_MODEL_821141da97af4e5091fc441f3b3a76de",
            "value": 2
          }
        },
        "e9953eef547241959aab08b145c09420": {
          "model_module": "@jupyter-widgets/controls",
          "model_name": "HTMLModel",
          "model_module_version": "1.5.0",
          "state": {
            "_dom_classes": [],
            "_model_module": "@jupyter-widgets/controls",
            "_model_module_version": "1.5.0",
            "_model_name": "HTMLModel",
            "_view_count": null,
            "_view_module": "@jupyter-widgets/controls",
            "_view_module_version": "1.5.0",
            "_view_name": "HTMLView",
            "description": "",
            "description_tooltip": null,
            "layout": "IPY_MODEL_885d0d7d597c45eab855008136af4059",
            "placeholder": "​",
            "style": "IPY_MODEL_1769944822484b46986b1f0dfc6a0224",
            "value": " 2/2 [00:00&lt;00:00, 43.70it/s]"
          }
        },
        "2ac5deede5c444c0b83a314c5317b1a6": {
          "model_module": "@jupyter-widgets/base",
          "model_name": "LayoutModel",
          "model_module_version": "1.2.0",
          "state": {
            "_model_module": "@jupyter-widgets/base",
            "_model_module_version": "1.2.0",
            "_model_name": "LayoutModel",
            "_view_count": null,
            "_view_module": "@jupyter-widgets/base",
            "_view_module_version": "1.2.0",
            "_view_name": "LayoutView",
            "align_content": null,
            "align_items": null,
            "align_self": null,
            "border": null,
            "bottom": null,
            "display": null,
            "flex": null,
            "flex_flow": null,
            "grid_area": null,
            "grid_auto_columns": null,
            "grid_auto_flow": null,
            "grid_auto_rows": null,
            "grid_column": null,
            "grid_gap": null,
            "grid_row": null,
            "grid_template_areas": null,
            "grid_template_columns": null,
            "grid_template_rows": null,
            "height": null,
            "justify_content": null,
            "justify_items": null,
            "left": null,
            "margin": null,
            "max_height": null,
            "max_width": null,
            "min_height": null,
            "min_width": null,
            "object_fit": null,
            "object_position": null,
            "order": null,
            "overflow": null,
            "overflow_x": null,
            "overflow_y": null,
            "padding": null,
            "right": null,
            "top": null,
            "visibility": null,
            "width": null
          }
        },
        "1033193871514a8eba9aaccb717406b8": {
          "model_module": "@jupyter-widgets/base",
          "model_name": "LayoutModel",
          "model_module_version": "1.2.0",
          "state": {
            "_model_module": "@jupyter-widgets/base",
            "_model_module_version": "1.2.0",
            "_model_name": "LayoutModel",
            "_view_count": null,
            "_view_module": "@jupyter-widgets/base",
            "_view_module_version": "1.2.0",
            "_view_name": "LayoutView",
            "align_content": null,
            "align_items": null,
            "align_self": null,
            "border": null,
            "bottom": null,
            "display": null,
            "flex": null,
            "flex_flow": null,
            "grid_area": null,
            "grid_auto_columns": null,
            "grid_auto_flow": null,
            "grid_auto_rows": null,
            "grid_column": null,
            "grid_gap": null,
            "grid_row": null,
            "grid_template_areas": null,
            "grid_template_columns": null,
            "grid_template_rows": null,
            "height": null,
            "justify_content": null,
            "justify_items": null,
            "left": null,
            "margin": null,
            "max_height": null,
            "max_width": null,
            "min_height": null,
            "min_width": null,
            "object_fit": null,
            "object_position": null,
            "order": null,
            "overflow": null,
            "overflow_x": null,
            "overflow_y": null,
            "padding": null,
            "right": null,
            "top": null,
            "visibility": null,
            "width": null
          }
        },
        "976e922fe17a48e0830f08d3824e854c": {
          "model_module": "@jupyter-widgets/controls",
          "model_name": "DescriptionStyleModel",
          "model_module_version": "1.5.0",
          "state": {
            "_model_module": "@jupyter-widgets/controls",
            "_model_module_version": "1.5.0",
            "_model_name": "DescriptionStyleModel",
            "_view_count": null,
            "_view_module": "@jupyter-widgets/base",
            "_view_module_version": "1.2.0",
            "_view_name": "StyleView",
            "description_width": ""
          }
        },
        "aab2c4f101894cc491e320e1e49f97c7": {
          "model_module": "@jupyter-widgets/base",
          "model_name": "LayoutModel",
          "model_module_version": "1.2.0",
          "state": {
            "_model_module": "@jupyter-widgets/base",
            "_model_module_version": "1.2.0",
            "_model_name": "LayoutModel",
            "_view_count": null,
            "_view_module": "@jupyter-widgets/base",
            "_view_module_version": "1.2.0",
            "_view_name": "LayoutView",
            "align_content": null,
            "align_items": null,
            "align_self": null,
            "border": null,
            "bottom": null,
            "display": null,
            "flex": null,
            "flex_flow": null,
            "grid_area": null,
            "grid_auto_columns": null,
            "grid_auto_flow": null,
            "grid_auto_rows": null,
            "grid_column": null,
            "grid_gap": null,
            "grid_row": null,
            "grid_template_areas": null,
            "grid_template_columns": null,
            "grid_template_rows": null,
            "height": null,
            "justify_content": null,
            "justify_items": null,
            "left": null,
            "margin": null,
            "max_height": null,
            "max_width": null,
            "min_height": null,
            "min_width": null,
            "object_fit": null,
            "object_position": null,
            "order": null,
            "overflow": null,
            "overflow_x": null,
            "overflow_y": null,
            "padding": null,
            "right": null,
            "top": null,
            "visibility": null,
            "width": null
          }
        },
        "821141da97af4e5091fc441f3b3a76de": {
          "model_module": "@jupyter-widgets/controls",
          "model_name": "ProgressStyleModel",
          "model_module_version": "1.5.0",
          "state": {
            "_model_module": "@jupyter-widgets/controls",
            "_model_module_version": "1.5.0",
            "_model_name": "ProgressStyleModel",
            "_view_count": null,
            "_view_module": "@jupyter-widgets/base",
            "_view_module_version": "1.2.0",
            "_view_name": "StyleView",
            "bar_color": null,
            "description_width": ""
          }
        },
        "885d0d7d597c45eab855008136af4059": {
          "model_module": "@jupyter-widgets/base",
          "model_name": "LayoutModel",
          "model_module_version": "1.2.0",
          "state": {
            "_model_module": "@jupyter-widgets/base",
            "_model_module_version": "1.2.0",
            "_model_name": "LayoutModel",
            "_view_count": null,
            "_view_module": "@jupyter-widgets/base",
            "_view_module_version": "1.2.0",
            "_view_name": "LayoutView",
            "align_content": null,
            "align_items": null,
            "align_self": null,
            "border": null,
            "bottom": null,
            "display": null,
            "flex": null,
            "flex_flow": null,
            "grid_area": null,
            "grid_auto_columns": null,
            "grid_auto_flow": null,
            "grid_auto_rows": null,
            "grid_column": null,
            "grid_gap": null,
            "grid_row": null,
            "grid_template_areas": null,
            "grid_template_columns": null,
            "grid_template_rows": null,
            "height": null,
            "justify_content": null,
            "justify_items": null,
            "left": null,
            "margin": null,
            "max_height": null,
            "max_width": null,
            "min_height": null,
            "min_width": null,
            "object_fit": null,
            "object_position": null,
            "order": null,
            "overflow": null,
            "overflow_x": null,
            "overflow_y": null,
            "padding": null,
            "right": null,
            "top": null,
            "visibility": null,
            "width": null
          }
        },
        "1769944822484b46986b1f0dfc6a0224": {
          "model_module": "@jupyter-widgets/controls",
          "model_name": "DescriptionStyleModel",
          "model_module_version": "1.5.0",
          "state": {
            "_model_module": "@jupyter-widgets/controls",
            "_model_module_version": "1.5.0",
            "_model_name": "DescriptionStyleModel",
            "_view_count": null,
            "_view_module": "@jupyter-widgets/base",
            "_view_module_version": "1.2.0",
            "_view_name": "StyleView",
            "description_width": ""
          }
        }
      }
    }
  },
  "cells": [
    {
      "cell_type": "markdown",
      "source": [
        "# imports"
      ],
      "metadata": {
        "id": "Ue90gIvy-QLy"
      }
    },
    {
      "cell_type": "code",
      "source": [
        "!pip -q install datasets"
      ],
      "metadata": {
        "id": "kc7uSekGO9es",
        "colab": {
          "base_uri": "https://localhost:8080/"
        },
        "outputId": "119f3e8b-42db-4bc4-be7a-a7e004cc0ddf"
      },
      "execution_count": 1,
      "outputs": [
        {
          "output_type": "stream",
          "name": "stdout",
          "text": [
            "\u001b[?25l     \u001b[90m━━━━━━━━━━━━━━━━━━━━━━━━━━━━━━━━━━━━━━━━\u001b[0m \u001b[32m0.0/486.2 kB\u001b[0m \u001b[31m?\u001b[0m eta \u001b[36m-:--:--\u001b[0m\r\u001b[2K     \u001b[90m━━━━━━━━━━━━━━━━━━━━━━━━━━━━━━━━━━━━━━\u001b[0m \u001b[32m486.2/486.2 kB\u001b[0m \u001b[31m31.5 MB/s\u001b[0m eta \u001b[36m0:00:00\u001b[0m\n",
            "\u001b[2K     \u001b[90m━━━━━━━━━━━━━━━━━━━━━━━━━━━━━━━━━━━━━━\u001b[0m \u001b[32m110.5/110.5 kB\u001b[0m \u001b[31m13.0 MB/s\u001b[0m eta \u001b[36m0:00:00\u001b[0m\n",
            "\u001b[2K     \u001b[90m━━━━━━━━━━━━━━━━━━━━━━━━━━━━━━━━━━━━━━\u001b[0m \u001b[32m212.5/212.5 kB\u001b[0m \u001b[31m28.9 MB/s\u001b[0m eta \u001b[36m0:00:00\u001b[0m\n",
            "\u001b[2K     \u001b[90m━━━━━━━━━━━━━━━━━━━━━━━━━━━━━━━━━━━━━━\u001b[0m \u001b[32m134.3/134.3 kB\u001b[0m \u001b[31m19.2 MB/s\u001b[0m eta \u001b[36m0:00:00\u001b[0m\n",
            "\u001b[2K     \u001b[90m━━━━━━━━━━━━━━━━━━━━━━━━━━━━━━━━━━━━━━\u001b[0m \u001b[32m268.8/268.8 kB\u001b[0m \u001b[31m31.4 MB/s\u001b[0m eta \u001b[36m0:00:00\u001b[0m\n",
            "\u001b[?25h"
          ]
        }
      ]
    },
    {
      "cell_type": "code",
      "source": [
        "from datasets import load_dataset\n",
        "import numpy as np\n",
        "from model import MemNN\n",
        "\n",
        "dataset = load_dataset(\"facebook/babi_qa\", \"en-10k-qa1\")"
      ],
      "metadata": {
        "colab": {
          "base_uri": "https://localhost:8080/",
          "height": 96,
          "referenced_widgets": [
            "7b441a8b71d04bc3af0eb9f1d0f32c42",
            "b5c10e85bdd5433b8ceac348b23198aa",
            "6219468ee61e4178ada418a46b1380fd",
            "e9953eef547241959aab08b145c09420",
            "2ac5deede5c444c0b83a314c5317b1a6",
            "1033193871514a8eba9aaccb717406b8",
            "976e922fe17a48e0830f08d3824e854c",
            "aab2c4f101894cc491e320e1e49f97c7",
            "821141da97af4e5091fc441f3b3a76de",
            "885d0d7d597c45eab855008136af4059",
            "1769944822484b46986b1f0dfc6a0224"
          ]
        },
        "id": "pvLqvzT9O64p",
        "outputId": "73f8d782-3ddd-46f6-f067-3438e091a510"
      },
      "execution_count": 22,
      "outputs": [
        {
          "output_type": "stream",
          "name": "stderr",
          "text": [
            "WARNING:datasets.builder:Found cached dataset babi_qa (/root/.cache/huggingface/datasets/facebook___babi_qa/en-10k-qa1/1.2.0/a3c1ff28a1e13b872a34a5aae4a0d6715f4ff95cbc823c7d2c04f278e912dfab)\n"
          ]
        },
        {
          "output_type": "display_data",
          "data": {
            "text/plain": [
              "  0%|          | 0/2 [00:00<?, ?it/s]"
            ],
            "application/vnd.jupyter.widget-view+json": {
              "version_major": 2,
              "version_minor": 0,
              "model_id": "7b441a8b71d04bc3af0eb9f1d0f32c42"
            }
          },
          "metadata": {}
        }
      ]
    },
    {
      "cell_type": "markdown",
      "source": [
        "# Preprocess data"
      ],
      "metadata": {
        "id": "ke_Uxxa3-VZS"
      }
    },
    {
      "cell_type": "code",
      "source": [
        "def get_dataset(dataset, max_story_length=10):\n",
        "\n",
        "    # Initialize story and question arrays\n",
        "    stories = [[] for _ in range(max_story_length)]\n",
        "    questions = [[] for _ in range(max_story_length)]\n",
        "    answers = [[] for _ in range(max_story_length)]\n",
        "\n",
        "    for i in range(len(dataset[\"train\"][\"story\"])):\n",
        "        data = dataset[\"train\"][\"story\"][i][\"text\"]\n",
        "        current_ans = dataset[\"train\"][\"story\"][i][\"answer\"]\n",
        "        current_story = []  # Reset the current story for each batch\n",
        "        current_questions = []  # Reset the current questions for each batch\n",
        "\n",
        "        for indx, sentence in enumerate(data):\n",
        "            if \"?\" in sentence:\n",
        "                # Determine the length of the current story\n",
        "                story_length = len(current_story)\n",
        "\n",
        "                # Append the current story and question to the respective arrays\n",
        "                if story_length <= max_story_length:\n",
        "                    stories[story_length - 1].append(list(current_story))\n",
        "                    questions[story_length - 1].append(sentence)\n",
        "                    answers[story_length - 1].append(current_ans[indx])\n",
        "            else:\n",
        "                current_story.append(sentence)\n",
        "\n",
        "\n",
        "\n",
        "    # Convert the lists to numpy arrays\n",
        "    stories = [np.array(story) for story in stories]\n",
        "    questions = [np.array(question).reshape(-1,1) for question in questions]\n",
        "    answers = [np.array(answer) for answer in answers]\n",
        "\n",
        "    return stories, questions, answers\n"
      ],
      "metadata": {
        "id": "_2gnGbLRr-rR"
      },
      "execution_count": 3,
      "outputs": []
    },
    {
      "cell_type": "code",
      "source": [
        "stories, questions, answers = get_dataset(dataset)"
      ],
      "metadata": {
        "id": "LQIvWdCFYVW7"
      },
      "execution_count": 4,
      "outputs": []
    },
    {
      "cell_type": "code",
      "source": [
        "questions[1].shape, stories[1].shape"
      ],
      "metadata": {
        "colab": {
          "base_uri": "https://localhost:8080/"
        },
        "id": "MSRoU9g5L3Bw",
        "outputId": "2e26e926-7ab1-4791-f177-bae8c2d7b9c4"
      },
      "execution_count": 5,
      "outputs": [
        {
          "output_type": "execute_result",
          "data": {
            "text/plain": [
              "((2000, 1), (2000, 2))"
            ]
          },
          "metadata": {},
          "execution_count": 5
        }
      ]
    },
    {
      "cell_type": "code",
      "source": [
        "max_story_len = 10\n",
        "\n",
        "def pad_stories(stories, max_story_len=10):\n",
        "\n",
        "    batch_size, n_sentence = stories.shape\n",
        "\n",
        "    if n_sentence < max_story_len:\n",
        "        padding = np.array([[\"\"] * (max_story_len - n_sentence)] * batch_size)\n",
        "        stories = np.concatenate((stories, padding), axis=1)\n",
        "\n",
        "    return stories\n",
        "\n",
        "merged_stories = np.array([pad_stories(stories[i],max_story_len) for i in range(1,11,2) ]).reshape(-1,max_story_len)\n",
        "merged_questions = np.array([questions[i] for i in range(1,11,2)]).reshape(-1,1)\n",
        "merged_answers = np.array([answers[i] for i in range(1,11,2)]).reshape(-1,1)"
      ],
      "metadata": {
        "id": "z3R_44Q5BrEm"
      },
      "execution_count": 6,
      "outputs": []
    },
    {
      "cell_type": "code",
      "source": [
        "indx = 16\n",
        "\n",
        "merged_stories[indx], merged_questions[indx], merged_answers[indx]"
      ],
      "metadata": {
        "colab": {
          "base_uri": "https://localhost:8080/"
        },
        "id": "ck9K2mC7Oqpi",
        "outputId": "b162ef59-6261-4105-ccc4-6def0418e951"
      },
      "execution_count": 7,
      "outputs": [
        {
          "output_type": "execute_result",
          "data": {
            "text/plain": [
              "(array(['Mary journeyed to the garden.', 'Sandra went back to the office.',\n",
              "        '', '', '', '', '', '', '', ''], dtype='<U33'),\n",
              " array(['Where is Sandra?'], dtype='<U16'),\n",
              " array(['office'], dtype='<U8'))"
            ]
          },
          "metadata": {},
          "execution_count": 7
        }
      ]
    },
    {
      "cell_type": "code",
      "source": [
        "merged_stories.shape, merged_questions.shape, merged_answers.shape"
      ],
      "metadata": {
        "colab": {
          "base_uri": "https://localhost:8080/"
        },
        "id": "2rBMzVYZPKHd",
        "outputId": "c5171dd0-0f6d-4f36-c3fc-352f168c4b41"
      },
      "execution_count": 8,
      "outputs": [
        {
          "output_type": "execute_result",
          "data": {
            "text/plain": [
              "((10000, 10), (10000, 1), (10000, 1))"
            ]
          },
          "metadata": {},
          "execution_count": 8
        }
      ]
    },
    {
      "cell_type": "code",
      "source": [
        "stories[-1].shape"
      ],
      "metadata": {
        "colab": {
          "base_uri": "https://localhost:8080/"
        },
        "id": "2rNrb2nkQVeR",
        "outputId": "78fe81fd-337a-46d5-be4c-f548bf062a72"
      },
      "execution_count": 23,
      "outputs": [
        {
          "output_type": "execute_result",
          "data": {
            "text/plain": [
              "(2000, 10)"
            ]
          },
          "metadata": {},
          "execution_count": 23
        }
      ]
    },
    {
      "cell_type": "code",
      "source": [
        "vocab = set()\n",
        "for s in stories[-1]:\n",
        "    s = \" \".join(s)\n",
        "    for w in s.split():\n",
        "        if \".\" in w:\n",
        "            w = w[:-1]\n",
        "        vocab.add(w)\n",
        "for q in questions[-1]:\n",
        "    q = q[0]\n",
        "    for w in q.split():\n",
        "        if \"?\" in w:\n",
        "            w = w[:-1]\n",
        "        vocab.add(w)\n",
        "\n",
        "vocab = np.array(list(vocab))\n",
        "\n",
        "\n",
        "def get_vocab(stories, questions, answers):\n",
        "    pass"
      ],
      "metadata": {
        "id": "d168-XKee9Vy"
      },
      "execution_count": 10,
      "outputs": []
    },
    {
      "cell_type": "code",
      "source": [
        "len(vocab)"
      ],
      "metadata": {
        "colab": {
          "base_uri": "https://localhost:8080/"
        },
        "id": "Jn7d7j3YlBkK",
        "outputId": "1a5a0634-fb86-4a5c-f50d-cc86b1e6c09b"
      },
      "execution_count": 11,
      "outputs": [
        {
          "output_type": "execute_result",
          "data": {
            "text/plain": [
              "19"
            ]
          },
          "metadata": {},
          "execution_count": 11
        }
      ]
    },
    {
      "cell_type": "markdown",
      "source": [
        "# MeMNet"
      ],
      "metadata": {
        "id": "5Lex5DLq-b_L"
      }
    },
    {
      "cell_type": "code",
      "source": [
        "mem_1 = MemNN(vocab, max_query_len=1, max_story_len=10, vocab_size=1000, embedding_size=128, k=5)\n",
        "mem_1.batch_size = 32"
      ],
      "metadata": {
        "id": "FSks0uVtgUOH"
      },
      "execution_count": 24,
      "outputs": []
    },
    {
      "cell_type": "code",
      "source": [
        "mem_1.compile()"
      ],
      "metadata": {
        "id": "rWTfLHB6sN5g"
      },
      "execution_count": 25,
      "outputs": []
    },
    {
      "cell_type": "code",
      "source": [
        "mem_1.model.summary()"
      ],
      "metadata": {
        "colab": {
          "base_uri": "https://localhost:8080/"
        },
        "id": "oUYR8pwi-lnj",
        "outputId": "65229c6e-79f3-4cef-bd04-708a786df34a"
      },
      "execution_count": 26,
      "outputs": [
        {
          "output_type": "stream",
          "name": "stdout",
          "text": [
            "Model: \"model_2\"\n",
            "__________________________________________________________________________________________________\n",
            " Layer (type)                   Output Shape         Param #     Connected to                     \n",
            "==================================================================================================\n",
            " story (InputLayer)             [(32, 10, 128)]      0           []                               \n",
            "                                                                                                  \n",
            " query (InputLayer)             [(32, 1, 128)]       0           []                               \n",
            "                                                                                                  \n",
            " lstm_4 (LSTM)                  (32, 10, 128)        131584      ['story[0][0]']                  \n",
            "                                                                                                  \n",
            " tf.math.l2_normalize_13 (TFOpL  (32, 1, 128)        0           ['query[0][0]']                  \n",
            " ambda)                                                                                           \n",
            "                                                                                                  \n",
            " tf.math.l2_normalize_12 (TFOpL  (32, 10, 128)       0           ['lstm_4[0][0]']                 \n",
            " ambda)                                                                                           \n",
            "                                                                                                  \n",
            " tf.compat.v1.shape_10 (TFOpLam  (3,)                0           ['tf.math.l2_normalize_12[0][0]']\n",
            " bda)                                                                                             \n",
            "                                                                                                  \n",
            " tf.linalg.matmul_10 (TFOpLambd  (32, 10, 1)         0           ['tf.math.l2_normalize_12[0][0]',\n",
            " a)                                                               'tf.math.l2_normalize_13[0][0]']\n",
            "                                                                                                  \n",
            " tf.__operators__.getitem_10 (S  ()                  0           ['tf.compat.v1.shape_10[0][0]']  \n",
            " licingOpLambda)                                                                                  \n",
            "                                                                                                  \n",
            " tf.math.argmax_10 (TFOpLambda)  (32, 1)             0           ['tf.linalg.matmul_10[0][0]']    \n",
            "                                                                                                  \n",
            " tf.range_10 (TFOpLambda)       (32,)                0           ['tf.__operators__.getitem_10[0][\n",
            "                                                                 0]']                             \n",
            "                                                                                                  \n",
            " tf.compat.v1.squeeze_10 (TFOpL  (32,)               0           ['tf.math.argmax_10[0][0]']      \n",
            " ambda)                                                                                           \n",
            "                                                                                                  \n",
            " tf.stack_10 (TFOpLambda)       (32, 2)              0           ['tf.range_10[0][0]',            \n",
            "                                                                  'tf.compat.v1.squeeze_10[0][0]']\n",
            "                                                                                                  \n",
            " tf.compat.v1.gather_nd_10 (TFO  (32, 128)           0           ['tf.math.l2_normalize_12[0][0]',\n",
            " pLambda)                                                         'tf.stack_10[0][0]']            \n",
            "                                                                                                  \n",
            " add_10 (Add)                   (32, 1, 128)         0           ['tf.math.l2_normalize_13[0][0]',\n",
            "                                                                  'tf.compat.v1.gather_nd_10[0][0]\n",
            "                                                                 ']                               \n",
            "                                                                                                  \n",
            " tf.math.l2_normalize_14 (TFOpL  (32, 1, 128)        0           ['add_10[0][0]']                 \n",
            " ambda)                                                                                           \n",
            "                                                                                                  \n",
            " tf.compat.v1.shape_11 (TFOpLam  (3,)                0           ['tf.math.l2_normalize_12[0][0]']\n",
            " bda)                                                                                             \n",
            "                                                                                                  \n",
            " tf.linalg.matmul_11 (TFOpLambd  (32, 10, 1)         0           ['tf.math.l2_normalize_12[0][0]',\n",
            " a)                                                               'tf.math.l2_normalize_14[0][0]']\n",
            "                                                                                                  \n",
            " tf.__operators__.getitem_11 (S  ()                  0           ['tf.compat.v1.shape_11[0][0]']  \n",
            " licingOpLambda)                                                                                  \n",
            "                                                                                                  \n",
            " tf.math.argmax_11 (TFOpLambda)  (32, 1)             0           ['tf.linalg.matmul_11[0][0]']    \n",
            "                                                                                                  \n",
            " tf.range_11 (TFOpLambda)       (32,)                0           ['tf.__operators__.getitem_11[0][\n",
            "                                                                 0]']                             \n",
            "                                                                                                  \n",
            " tf.compat.v1.squeeze_11 (TFOpL  (32,)               0           ['tf.math.argmax_11[0][0]']      \n",
            " ambda)                                                                                           \n",
            "                                                                                                  \n",
            " tf.stack_11 (TFOpLambda)       (32, 2)              0           ['tf.range_11[0][0]',            \n",
            "                                                                  'tf.compat.v1.squeeze_11[0][0]']\n",
            "                                                                                                  \n",
            " tf.compat.v1.gather_nd_11 (TFO  (32, 128)           0           ['tf.math.l2_normalize_12[0][0]',\n",
            " pLambda)                                                         'tf.stack_11[0][0]']            \n",
            "                                                                                                  \n",
            " add_11 (Add)                   (32, 1, 128)         0           ['tf.math.l2_normalize_14[0][0]',\n",
            "                                                                  'tf.compat.v1.gather_nd_11[0][0]\n",
            "                                                                 ']                               \n",
            "                                                                                                  \n",
            " tf.math.l2_normalize_15 (TFOpL  (32, 1, 128)        0           ['add_11[0][0]']                 \n",
            " ambda)                                                                                           \n",
            "                                                                                                  \n",
            " tf.compat.v1.shape_12 (TFOpLam  (3,)                0           ['tf.math.l2_normalize_12[0][0]']\n",
            " bda)                                                                                             \n",
            "                                                                                                  \n",
            " tf.linalg.matmul_12 (TFOpLambd  (32, 10, 1)         0           ['tf.math.l2_normalize_12[0][0]',\n",
            " a)                                                               'tf.math.l2_normalize_15[0][0]']\n",
            "                                                                                                  \n",
            " tf.__operators__.getitem_12 (S  ()                  0           ['tf.compat.v1.shape_12[0][0]']  \n",
            " licingOpLambda)                                                                                  \n",
            "                                                                                                  \n",
            " tf.math.argmax_12 (TFOpLambda)  (32, 1)             0           ['tf.linalg.matmul_12[0][0]']    \n",
            "                                                                                                  \n",
            " tf.range_12 (TFOpLambda)       (32,)                0           ['tf.__operators__.getitem_12[0][\n",
            "                                                                 0]']                             \n",
            "                                                                                                  \n",
            " tf.compat.v1.squeeze_12 (TFOpL  (32,)               0           ['tf.math.argmax_12[0][0]']      \n",
            " ambda)                                                                                           \n",
            "                                                                                                  \n",
            " tf.stack_12 (TFOpLambda)       (32, 2)              0           ['tf.range_12[0][0]',            \n",
            "                                                                  'tf.compat.v1.squeeze_12[0][0]']\n",
            "                                                                                                  \n",
            " tf.compat.v1.gather_nd_12 (TFO  (32, 128)           0           ['tf.math.l2_normalize_12[0][0]',\n",
            " pLambda)                                                         'tf.stack_12[0][0]']            \n",
            "                                                                                                  \n",
            " add_12 (Add)                   (32, 1, 128)         0           ['tf.math.l2_normalize_15[0][0]',\n",
            "                                                                  'tf.compat.v1.gather_nd_12[0][0]\n",
            "                                                                 ']                               \n",
            "                                                                                                  \n",
            " tf.math.l2_normalize_16 (TFOpL  (32, 1, 128)        0           ['add_12[0][0]']                 \n",
            " ambda)                                                                                           \n",
            "                                                                                                  \n",
            " tf.compat.v1.shape_13 (TFOpLam  (3,)                0           ['tf.math.l2_normalize_12[0][0]']\n",
            " bda)                                                                                             \n",
            "                                                                                                  \n",
            " tf.linalg.matmul_13 (TFOpLambd  (32, 10, 1)         0           ['tf.math.l2_normalize_12[0][0]',\n",
            " a)                                                               'tf.math.l2_normalize_16[0][0]']\n",
            "                                                                                                  \n",
            " tf.__operators__.getitem_13 (S  ()                  0           ['tf.compat.v1.shape_13[0][0]']  \n",
            " licingOpLambda)                                                                                  \n",
            "                                                                                                  \n",
            " tf.math.argmax_13 (TFOpLambda)  (32, 1)             0           ['tf.linalg.matmul_13[0][0]']    \n",
            "                                                                                                  \n",
            " tf.range_13 (TFOpLambda)       (32,)                0           ['tf.__operators__.getitem_13[0][\n",
            "                                                                 0]']                             \n",
            "                                                                                                  \n",
            " tf.compat.v1.squeeze_13 (TFOpL  (32,)               0           ['tf.math.argmax_13[0][0]']      \n",
            " ambda)                                                                                           \n",
            "                                                                                                  \n",
            " tf.stack_13 (TFOpLambda)       (32, 2)              0           ['tf.range_13[0][0]',            \n",
            "                                                                  'tf.compat.v1.squeeze_13[0][0]']\n",
            "                                                                                                  \n",
            " tf.compat.v1.gather_nd_13 (TFO  (32, 128)           0           ['tf.math.l2_normalize_12[0][0]',\n",
            " pLambda)                                                         'tf.stack_13[0][0]']            \n",
            "                                                                                                  \n",
            " add_13 (Add)                   (32, 1, 128)         0           ['tf.math.l2_normalize_16[0][0]',\n",
            "                                                                  'tf.compat.v1.gather_nd_13[0][0]\n",
            "                                                                 ']                               \n",
            "                                                                                                  \n",
            " tf.math.l2_normalize_17 (TFOpL  (32, 1, 128)        0           ['add_13[0][0]']                 \n",
            " ambda)                                                                                           \n",
            "                                                                                                  \n",
            " tf.compat.v1.shape_14 (TFOpLam  (3,)                0           ['tf.math.l2_normalize_12[0][0]']\n",
            " bda)                                                                                             \n",
            "                                                                                                  \n",
            " tf.linalg.matmul_14 (TFOpLambd  (32, 10, 1)         0           ['tf.math.l2_normalize_12[0][0]',\n",
            " a)                                                               'tf.math.l2_normalize_17[0][0]']\n",
            "                                                                                                  \n",
            " tf.__operators__.getitem_14 (S  ()                  0           ['tf.compat.v1.shape_14[0][0]']  \n",
            " licingOpLambda)                                                                                  \n",
            "                                                                                                  \n",
            " tf.math.argmax_14 (TFOpLambda)  (32, 1)             0           ['tf.linalg.matmul_14[0][0]']    \n",
            "                                                                                                  \n",
            " tf.range_14 (TFOpLambda)       (32,)                0           ['tf.__operators__.getitem_14[0][\n",
            "                                                                 0]']                             \n",
            "                                                                                                  \n",
            " tf.compat.v1.squeeze_14 (TFOpL  (32,)               0           ['tf.math.argmax_14[0][0]']      \n",
            " ambda)                                                                                           \n",
            "                                                                                                  \n",
            " tf.stack_14 (TFOpLambda)       (32, 2)              0           ['tf.range_14[0][0]',            \n",
            "                                                                  'tf.compat.v1.squeeze_14[0][0]']\n",
            "                                                                                                  \n",
            " tf.compat.v1.gather_nd_14 (TFO  (32, 128)           0           ['tf.math.l2_normalize_12[0][0]',\n",
            " pLambda)                                                         'tf.stack_14[0][0]']            \n",
            "                                                                                                  \n",
            " add_14 (Add)                   (32, 1, 128)         0           ['tf.math.l2_normalize_17[0][0]',\n",
            "                                                                  'tf.compat.v1.gather_nd_14[0][0]\n",
            "                                                                 ']                               \n",
            "                                                                                                  \n",
            " bidirectional_2 (Bidirectional  (32, 1, 256)        263168      ['add_14[0][0]']                 \n",
            " )                                                                                                \n",
            "                                                                                                  \n",
            " dense_4 (Dense)                (32, 1, 21)          5397        ['bidirectional_2[0][0]']        \n",
            "                                                                                                  \n",
            " dense_5 (Dense)                (32, 1, 21)          462         ['dense_4[0][0]']                \n",
            "                                                                                                  \n",
            "==================================================================================================\n",
            "Total params: 400,611\n",
            "Trainable params: 400,611\n",
            "Non-trainable params: 0\n",
            "__________________________________________________________________________________________________\n"
          ]
        }
      ]
    },
    {
      "cell_type": "code",
      "source": [
        "max_story_len = 2\n",
        "\n",
        "mem_1.fit(stories[max_story_len-1], questions[max_story_len-1].reshape(-1,1), answers[max_story_len-1], epochs=50, validation_split=0.2)"
      ],
      "metadata": {
        "colab": {
          "base_uri": "https://localhost:8080/"
        },
        "id": "u0g1qDPBsP0W",
        "outputId": "20a3ad7c-cd82-4ccb-c2f8-5b37326ac648"
      },
      "execution_count": 27,
      "outputs": [
        {
          "output_type": "stream",
          "name": "stdout",
          "text": [
            "Epoch 1/50\n",
            "50/50 [==============================] - 6s 39ms/step - loss: 2.5247 - accuracy: 0.1606 - val_loss: 2.0615 - val_accuracy: 0.1800\n",
            "Epoch 2/50\n",
            "50/50 [==============================] - 1s 19ms/step - loss: 1.7895 - accuracy: 0.3150 - val_loss: 1.5931 - val_accuracy: 0.3975\n",
            "Epoch 3/50\n",
            "50/50 [==============================] - 1s 19ms/step - loss: 1.4812 - accuracy: 0.4400 - val_loss: 1.3475 - val_accuracy: 0.4400\n",
            "Epoch 4/50\n",
            "50/50 [==============================] - 1s 23ms/step - loss: 1.3284 - accuracy: 0.4850 - val_loss: 1.2486 - val_accuracy: 0.5075\n",
            "Epoch 5/50\n",
            "50/50 [==============================] - 2s 31ms/step - loss: 1.2172 - accuracy: 0.5256 - val_loss: 1.1386 - val_accuracy: 0.5350\n",
            "Epoch 6/50\n",
            "50/50 [==============================] - 1s 20ms/step - loss: 1.1599 - accuracy: 0.5200 - val_loss: 1.0600 - val_accuracy: 0.5450\n",
            "Epoch 7/50\n",
            "50/50 [==============================] - 1s 22ms/step - loss: 1.0549 - accuracy: 0.5462 - val_loss: 1.0271 - val_accuracy: 0.5300\n",
            "Epoch 8/50\n",
            "50/50 [==============================] - 1s 18ms/step - loss: 0.9615 - accuracy: 0.5725 - val_loss: 1.0875 - val_accuracy: 0.5375\n",
            "Epoch 9/50\n",
            "50/50 [==============================] - 1s 18ms/step - loss: 0.8270 - accuracy: 0.5975 - val_loss: 0.7808 - val_accuracy: 0.5925\n",
            "Epoch 10/50\n",
            "50/50 [==============================] - 1s 19ms/step - loss: 0.8142 - accuracy: 0.6056 - val_loss: 0.8700 - val_accuracy: 0.6225\n",
            "Epoch 11/50\n",
            "50/50 [==============================] - 1s 19ms/step - loss: 0.7549 - accuracy: 0.6119 - val_loss: 0.8122 - val_accuracy: 0.5750\n",
            "Epoch 12/50\n",
            "50/50 [==============================] - 1s 19ms/step - loss: 0.7551 - accuracy: 0.6187 - val_loss: 0.7747 - val_accuracy: 0.5750\n",
            "Epoch 13/50\n",
            "50/50 [==============================] - 1s 20ms/step - loss: 0.7010 - accuracy: 0.6363 - val_loss: 0.7762 - val_accuracy: 0.5700\n",
            "Epoch 14/50\n",
            "50/50 [==============================] - 1s 18ms/step - loss: 0.7285 - accuracy: 0.6031 - val_loss: 0.7798 - val_accuracy: 0.5850\n",
            "Epoch 15/50\n",
            "50/50 [==============================] - 1s 18ms/step - loss: 0.7050 - accuracy: 0.6231 - val_loss: 0.7873 - val_accuracy: 0.5600\n",
            "Epoch 16/50\n",
            "50/50 [==============================] - 1s 26ms/step - loss: 0.6904 - accuracy: 0.6344 - val_loss: 0.7483 - val_accuracy: 0.5825\n",
            "Epoch 17/50\n",
            "50/50 [==============================] - 1s 28ms/step - loss: 0.6645 - accuracy: 0.6313 - val_loss: 0.7458 - val_accuracy: 0.5825\n",
            "Epoch 18/50\n",
            "50/50 [==============================] - 1s 18ms/step - loss: 0.6839 - accuracy: 0.6350 - val_loss: 0.7679 - val_accuracy: 0.5850\n",
            "Epoch 19/50\n",
            "50/50 [==============================] - 1s 19ms/step - loss: 0.6546 - accuracy: 0.6431 - val_loss: 0.7549 - val_accuracy: 0.6225\n",
            "Epoch 20/50\n",
            "50/50 [==============================] - 1s 19ms/step - loss: 0.6667 - accuracy: 0.6325 - val_loss: 0.7339 - val_accuracy: 0.5875\n",
            "Epoch 21/50\n",
            "50/50 [==============================] - 1s 19ms/step - loss: 0.6565 - accuracy: 0.6488 - val_loss: 0.7962 - val_accuracy: 0.5650\n",
            "Epoch 22/50\n",
            "50/50 [==============================] - 1s 19ms/step - loss: 0.6618 - accuracy: 0.6450 - val_loss: 0.7751 - val_accuracy: 0.5600\n",
            "Epoch 23/50\n",
            "50/50 [==============================] - 1s 18ms/step - loss: 0.6465 - accuracy: 0.6681 - val_loss: 0.7681 - val_accuracy: 0.5825\n",
            "Epoch 24/50\n",
            "50/50 [==============================] - 1s 19ms/step - loss: 0.6594 - accuracy: 0.6500 - val_loss: 0.7430 - val_accuracy: 0.5875\n",
            "Epoch 25/50\n",
            "50/50 [==============================] - 1s 18ms/step - loss: 0.6146 - accuracy: 0.6594 - val_loss: 0.7435 - val_accuracy: 0.6050\n",
            "Epoch 26/50\n",
            "50/50 [==============================] - 1s 18ms/step - loss: 0.6320 - accuracy: 0.6594 - val_loss: 0.7670 - val_accuracy: 0.5975\n",
            "Epoch 27/50\n",
            "50/50 [==============================] - 1s 20ms/step - loss: 0.6558 - accuracy: 0.6494 - val_loss: 0.7415 - val_accuracy: 0.5975\n",
            "Epoch 28/50\n",
            "50/50 [==============================] - 1s 26ms/step - loss: 0.6473 - accuracy: 0.6519 - val_loss: 0.7712 - val_accuracy: 0.6050\n",
            "Epoch 29/50\n",
            "50/50 [==============================] - 1s 28ms/step - loss: 0.6387 - accuracy: 0.6525 - val_loss: 0.7855 - val_accuracy: 0.5600\n",
            "Epoch 30/50\n",
            "50/50 [==============================] - 1s 19ms/step - loss: 0.6262 - accuracy: 0.6700 - val_loss: 0.7907 - val_accuracy: 0.5775\n",
            "Epoch 31/50\n",
            "50/50 [==============================] - 1s 21ms/step - loss: 0.6156 - accuracy: 0.6812 - val_loss: 0.7821 - val_accuracy: 0.6175\n",
            "Epoch 32/50\n",
            "50/50 [==============================] - 1s 19ms/step - loss: 0.6160 - accuracy: 0.6637 - val_loss: 0.7675 - val_accuracy: 0.6225\n",
            "Epoch 33/50\n",
            "50/50 [==============================] - 1s 19ms/step - loss: 0.6210 - accuracy: 0.6694 - val_loss: 0.7528 - val_accuracy: 0.5925\n",
            "Epoch 34/50\n",
            "50/50 [==============================] - 1s 19ms/step - loss: 0.6049 - accuracy: 0.6913 - val_loss: 0.7469 - val_accuracy: 0.5875\n",
            "Epoch 35/50\n",
            "50/50 [==============================] - 1s 19ms/step - loss: 0.6159 - accuracy: 0.6812 - val_loss: 0.7509 - val_accuracy: 0.6125\n",
            "Epoch 36/50\n",
            "50/50 [==============================] - 1s 19ms/step - loss: 0.6175 - accuracy: 0.6850 - val_loss: 0.7651 - val_accuracy: 0.5875\n",
            "Epoch 37/50\n",
            "50/50 [==============================] - 1s 19ms/step - loss: 0.5917 - accuracy: 0.6831 - val_loss: 0.7546 - val_accuracy: 0.6100\n",
            "Epoch 38/50\n",
            "50/50 [==============================] - 1s 19ms/step - loss: 0.6178 - accuracy: 0.6850 - val_loss: 0.7806 - val_accuracy: 0.5800\n",
            "Epoch 39/50\n",
            "50/50 [==============================] - 1s 20ms/step - loss: 0.5901 - accuracy: 0.6900 - val_loss: 0.8026 - val_accuracy: 0.5650\n",
            "Epoch 40/50\n",
            "50/50 [==============================] - 2s 30ms/step - loss: 0.5937 - accuracy: 0.6981 - val_loss: 0.7464 - val_accuracy: 0.6100\n",
            "Epoch 41/50\n",
            "50/50 [==============================] - 1s 24ms/step - loss: 0.6146 - accuracy: 0.6888 - val_loss: 0.7532 - val_accuracy: 0.6075\n",
            "Epoch 42/50\n",
            "50/50 [==============================] - 1s 19ms/step - loss: 0.5833 - accuracy: 0.6950 - val_loss: 0.7727 - val_accuracy: 0.5950\n",
            "Epoch 43/50\n",
            "50/50 [==============================] - 1s 19ms/step - loss: 0.5837 - accuracy: 0.7088 - val_loss: 0.8061 - val_accuracy: 0.5950\n",
            "Epoch 44/50\n",
            "50/50 [==============================] - 1s 20ms/step - loss: 0.6200 - accuracy: 0.6875 - val_loss: 0.8017 - val_accuracy: 0.5925\n",
            "Epoch 45/50\n",
            "50/50 [==============================] - 1s 20ms/step - loss: 0.5872 - accuracy: 0.6981 - val_loss: 0.8661 - val_accuracy: 0.5525\n",
            "Epoch 46/50\n",
            "50/50 [==============================] - 1s 18ms/step - loss: 0.6367 - accuracy: 0.6869 - val_loss: 0.8069 - val_accuracy: 0.5950\n",
            "Epoch 47/50\n",
            "50/50 [==============================] - 1s 20ms/step - loss: 0.6064 - accuracy: 0.6906 - val_loss: 0.7916 - val_accuracy: 0.6100\n",
            "Epoch 48/50\n",
            "50/50 [==============================] - 2s 32ms/step - loss: 0.6262 - accuracy: 0.6913 - val_loss: 0.7911 - val_accuracy: 0.6025\n",
            "Epoch 49/50\n",
            "50/50 [==============================] - 1s 21ms/step - loss: 0.6036 - accuracy: 0.6944 - val_loss: 0.8496 - val_accuracy: 0.5900\n",
            "Epoch 50/50\n",
            "50/50 [==============================] - 1s 20ms/step - loss: 0.5941 - accuracy: 0.7063 - val_loss: 0.8733 - val_accuracy: 0.5900\n"
          ]
        }
      ]
    },
    {
      "cell_type": "code",
      "source": [
        "max_story_len = 4\n",
        "\n",
        "mem_2 = MemNN(vocab, max_query_len=1, max_story_len=10, vocab_size=1000, embedding_size=128, k=5)\n",
        "mem_2.batch_size = 32\n",
        "\n",
        "mem_2.compile()\n",
        "\n",
        "mem_2.fit(stories[max_story_len-1], questions[max_story_len-1].reshape(-1,1), answers[max_story_len-1], epochs=50, validation_split=0.2)"
      ],
      "metadata": {
        "id": "gfk34ONKsRWE",
        "colab": {
          "base_uri": "https://localhost:8080/"
        },
        "outputId": "6be35f24-cceb-4813-c5dd-f4c61d0a4b02"
      },
      "execution_count": 28,
      "outputs": [
        {
          "output_type": "stream",
          "name": "stdout",
          "text": [
            "Epoch 1/50\n",
            "50/50 [==============================] - 7s 40ms/step - loss: 2.3089 - accuracy: 0.1425 - val_loss: 1.8308 - val_accuracy: 0.1875\n",
            "Epoch 2/50\n",
            "50/50 [==============================] - 1s 18ms/step - loss: 1.8075 - accuracy: 0.1838 - val_loss: 1.7922 - val_accuracy: 0.1775\n",
            "Epoch 3/50\n",
            "50/50 [==============================] - 1s 19ms/step - loss: 1.7355 - accuracy: 0.2612 - val_loss: 1.6978 - val_accuracy: 0.3175\n",
            "Epoch 4/50\n",
            "50/50 [==============================] - 1s 20ms/step - loss: 1.6537 - accuracy: 0.3269 - val_loss: 1.6328 - val_accuracy: 0.3125\n",
            "Epoch 5/50\n",
            "50/50 [==============================] - 1s 19ms/step - loss: 1.6271 - accuracy: 0.3150 - val_loss: 1.6502 - val_accuracy: 0.2850\n",
            "Epoch 6/50\n",
            "50/50 [==============================] - 1s 19ms/step - loss: 1.6083 - accuracy: 0.3394 - val_loss: 1.6328 - val_accuracy: 0.3125\n",
            "Epoch 7/50\n",
            "50/50 [==============================] - 1s 19ms/step - loss: 1.6061 - accuracy: 0.3269 - val_loss: 1.6218 - val_accuracy: 0.3125\n",
            "Epoch 8/50\n",
            "50/50 [==============================] - 1s 30ms/step - loss: 1.5971 - accuracy: 0.3300 - val_loss: 1.6503 - val_accuracy: 0.2950\n",
            "Epoch 9/50\n",
            "50/50 [==============================] - 1s 27ms/step - loss: 1.6252 - accuracy: 0.3094 - val_loss: 1.7179 - val_accuracy: 0.2725\n",
            "Epoch 10/50\n",
            "50/50 [==============================] - 1s 19ms/step - loss: 1.6487 - accuracy: 0.3131 - val_loss: 1.6837 - val_accuracy: 0.2625\n",
            "Epoch 11/50\n",
            "50/50 [==============================] - 1s 19ms/step - loss: 1.6804 - accuracy: 0.3025 - val_loss: 1.7169 - val_accuracy: 0.2525\n",
            "Epoch 12/50\n",
            "50/50 [==============================] - 1s 19ms/step - loss: 1.6857 - accuracy: 0.2900 - val_loss: 1.7515 - val_accuracy: 0.2500\n",
            "Epoch 13/50\n",
            "50/50 [==============================] - 1s 20ms/step - loss: 1.7039 - accuracy: 0.2750 - val_loss: 1.7486 - val_accuracy: 0.2400\n",
            "Epoch 14/50\n",
            "50/50 [==============================] - 1s 19ms/step - loss: 1.7128 - accuracy: 0.2756 - val_loss: 1.7668 - val_accuracy: 0.2175\n",
            "Epoch 15/50\n",
            "50/50 [==============================] - 1s 19ms/step - loss: 1.7170 - accuracy: 0.2725 - val_loss: 1.7677 - val_accuracy: 0.2500\n",
            "Epoch 16/50\n",
            "50/50 [==============================] - 1s 18ms/step - loss: 1.7114 - accuracy: 0.2837 - val_loss: 1.7805 - val_accuracy: 0.2150\n",
            "Epoch 17/50\n",
            "50/50 [==============================] - 1s 19ms/step - loss: 1.7169 - accuracy: 0.2763 - val_loss: 1.7873 - val_accuracy: 0.2300\n",
            "Epoch 18/50\n",
            "50/50 [==============================] - 1s 18ms/step - loss: 1.7236 - accuracy: 0.2675 - val_loss: 1.7785 - val_accuracy: 0.2100\n",
            "Epoch 19/50\n",
            "50/50 [==============================] - 1s 20ms/step - loss: 1.7173 - accuracy: 0.2694 - val_loss: 1.7774 - val_accuracy: 0.2325\n",
            "Epoch 20/50\n",
            "50/50 [==============================] - 2s 31ms/step - loss: 1.7161 - accuracy: 0.2631 - val_loss: 1.7872 - val_accuracy: 0.2350\n",
            "Epoch 21/50\n",
            "50/50 [==============================] - 1s 22ms/step - loss: 1.7148 - accuracy: 0.2725 - val_loss: 1.7933 - val_accuracy: 0.2200\n",
            "Epoch 22/50\n",
            "50/50 [==============================] - 1s 27ms/step - loss: 1.7298 - accuracy: 0.2606 - val_loss: 1.7923 - val_accuracy: 0.2375\n",
            "Epoch 23/50\n",
            "50/50 [==============================] - 1s 30ms/step - loss: 1.7210 - accuracy: 0.2562 - val_loss: 1.7919 - val_accuracy: 0.2500\n",
            "Epoch 24/50\n",
            "50/50 [==============================] - 2s 38ms/step - loss: 1.7182 - accuracy: 0.2725 - val_loss: 1.7857 - val_accuracy: 0.2350\n",
            "Epoch 25/50\n",
            "50/50 [==============================] - 2s 35ms/step - loss: 1.7259 - accuracy: 0.2713 - val_loss: 1.8141 - val_accuracy: 0.2025\n",
            "Epoch 26/50\n",
            "50/50 [==============================] - 1s 29ms/step - loss: 1.7196 - accuracy: 0.2569 - val_loss: 1.8070 - val_accuracy: 0.2075\n",
            "Epoch 27/50\n",
            "50/50 [==============================] - 2s 38ms/step - loss: 1.7296 - accuracy: 0.2700 - val_loss: 1.7920 - val_accuracy: 0.2450\n",
            "Epoch 28/50\n",
            "50/50 [==============================] - 2s 43ms/step - loss: 1.7159 - accuracy: 0.2738 - val_loss: 1.7865 - val_accuracy: 0.2225\n",
            "Epoch 29/50\n",
            "50/50 [==============================] - 1s 22ms/step - loss: 1.7183 - accuracy: 0.2713 - val_loss: 1.7939 - val_accuracy: 0.2575\n",
            "Epoch 30/50\n",
            "50/50 [==============================] - 1s 20ms/step - loss: 1.7200 - accuracy: 0.2688 - val_loss: 1.8043 - val_accuracy: 0.2175\n",
            "Epoch 31/50\n",
            "50/50 [==============================] - 2s 33ms/step - loss: 1.7180 - accuracy: 0.2731 - val_loss: 1.7974 - val_accuracy: 0.2200\n",
            "Epoch 32/50\n",
            "50/50 [==============================] - 1s 19ms/step - loss: 1.7113 - accuracy: 0.2781 - val_loss: 1.8302 - val_accuracy: 0.2050\n",
            "Epoch 33/50\n",
            "50/50 [==============================] - 1s 19ms/step - loss: 1.7149 - accuracy: 0.2750 - val_loss: 1.8127 - val_accuracy: 0.2250\n",
            "Epoch 34/50\n",
            "50/50 [==============================] - 1s 18ms/step - loss: 1.7095 - accuracy: 0.2694 - val_loss: 1.8109 - val_accuracy: 0.2125\n",
            "Epoch 35/50\n",
            "50/50 [==============================] - 1s 18ms/step - loss: 1.7116 - accuracy: 0.2788 - val_loss: 1.8103 - val_accuracy: 0.2300\n",
            "Epoch 36/50\n",
            "50/50 [==============================] - 1s 20ms/step - loss: 1.7017 - accuracy: 0.2794 - val_loss: 1.8181 - val_accuracy: 0.1925\n",
            "Epoch 37/50\n",
            "50/50 [==============================] - 1s 19ms/step - loss: 1.7010 - accuracy: 0.2837 - val_loss: 1.8179 - val_accuracy: 0.2075\n",
            "Epoch 38/50\n",
            "50/50 [==============================] - 1s 29ms/step - loss: 1.6996 - accuracy: 0.2912 - val_loss: 1.8393 - val_accuracy: 0.2275\n",
            "Epoch 39/50\n",
            "50/50 [==============================] - 1s 25ms/step - loss: 1.6971 - accuracy: 0.2806 - val_loss: 1.8366 - val_accuracy: 0.2050\n",
            "Epoch 40/50\n",
            "50/50 [==============================] - 1s 18ms/step - loss: 1.6817 - accuracy: 0.2937 - val_loss: 1.7997 - val_accuracy: 0.2125\n",
            "Epoch 41/50\n",
            "50/50 [==============================] - 1s 18ms/step - loss: 1.6891 - accuracy: 0.2862 - val_loss: 1.8128 - val_accuracy: 0.2250\n",
            "Epoch 42/50\n",
            "50/50 [==============================] - 1s 19ms/step - loss: 1.6776 - accuracy: 0.3050 - val_loss: 1.8068 - val_accuracy: 0.1900\n",
            "Epoch 43/50\n",
            "50/50 [==============================] - 1s 18ms/step - loss: 1.6810 - accuracy: 0.2937 - val_loss: 1.8138 - val_accuracy: 0.1975\n",
            "Epoch 44/50\n",
            "50/50 [==============================] - 1s 20ms/step - loss: 1.6725 - accuracy: 0.3031 - val_loss: 1.8054 - val_accuracy: 0.2225\n",
            "Epoch 45/50\n",
            "50/50 [==============================] - 1s 18ms/step - loss: 1.6571 - accuracy: 0.3000 - val_loss: 1.8020 - val_accuracy: 0.2225\n",
            "Epoch 46/50\n",
            "50/50 [==============================] - 1s 19ms/step - loss: 1.6748 - accuracy: 0.3038 - val_loss: 1.8197 - val_accuracy: 0.2200\n",
            "Epoch 47/50\n",
            "50/50 [==============================] - 1s 20ms/step - loss: 1.6697 - accuracy: 0.3025 - val_loss: 1.8271 - val_accuracy: 0.2100\n",
            "Epoch 48/50\n",
            "50/50 [==============================] - 1s 19ms/step - loss: 1.6573 - accuracy: 0.2988 - val_loss: 1.8035 - val_accuracy: 0.2075\n",
            "Epoch 49/50\n",
            "50/50 [==============================] - 1s 19ms/step - loss: 1.6446 - accuracy: 0.3237 - val_loss: 1.7983 - val_accuracy: 0.2200\n",
            "Epoch 50/50\n",
            "50/50 [==============================] - 2s 31ms/step - loss: 1.6341 - accuracy: 0.3137 - val_loss: 1.8056 - val_accuracy: 0.2075\n"
          ]
        }
      ]
    },
    {
      "cell_type": "code",
      "source": [
        "max_story_len = 6\n",
        "\n",
        "mem_3 = MemNN(vocab, max_query_len=1, max_story_len=10, vocab_size=1000, embedding_size=128, k=5)\n",
        "mem_3.batch_size = 32\n",
        "\n",
        "mem_3.compile()\n",
        "\n",
        "mem_3.fit(stories[max_story_len-1], questions[max_story_len-1].reshape(-1,1), answers[max_story_len-1], epochs=50, validation_split=0.2)"
      ],
      "metadata": {
        "colab": {
          "base_uri": "https://localhost:8080/"
        },
        "id": "nN7Ww1sPmJFz",
        "outputId": "93732b0f-b8e3-4f3d-979d-875bb6c9bea9"
      },
      "execution_count": 29,
      "outputs": [
        {
          "output_type": "stream",
          "name": "stdout",
          "text": [
            "Epoch 1/50\n",
            "50/50 [==============================] - 7s 44ms/step - loss: 2.4383 - accuracy: 0.1700 - val_loss: 1.9516 - val_accuracy: 0.1600\n",
            "Epoch 2/50\n",
            "50/50 [==============================] - 1s 20ms/step - loss: 1.8543 - accuracy: 0.1800 - val_loss: 1.8057 - val_accuracy: 0.1825\n",
            "Epoch 3/50\n",
            "50/50 [==============================] - 1s 18ms/step - loss: 1.8130 - accuracy: 0.1713 - val_loss: 1.8133 - val_accuracy: 0.2050\n",
            "Epoch 4/50\n",
            "50/50 [==============================] - 1s 20ms/step - loss: 1.7873 - accuracy: 0.2025 - val_loss: 1.8053 - val_accuracy: 0.1650\n",
            "Epoch 5/50\n",
            "50/50 [==============================] - 1s 19ms/step - loss: 1.7754 - accuracy: 0.2094 - val_loss: 1.7719 - val_accuracy: 0.2200\n",
            "Epoch 6/50\n",
            "50/50 [==============================] - 1s 19ms/step - loss: 1.7871 - accuracy: 0.2219 - val_loss: 1.8170 - val_accuracy: 0.1600\n",
            "Epoch 7/50\n",
            "50/50 [==============================] - 1s 19ms/step - loss: 1.7827 - accuracy: 0.1956 - val_loss: 1.7950 - val_accuracy: 0.1675\n",
            "Epoch 8/50\n",
            "50/50 [==============================] - 1s 19ms/step - loss: 1.7889 - accuracy: 0.2000 - val_loss: 1.8050 - val_accuracy: 0.1675\n",
            "Epoch 9/50\n",
            "50/50 [==============================] - 1s 19ms/step - loss: 1.7892 - accuracy: 0.2025 - val_loss: 1.7996 - val_accuracy: 0.1775\n",
            "Epoch 10/50\n",
            "50/50 [==============================] - 1s 23ms/step - loss: 1.7871 - accuracy: 0.1975 - val_loss: 1.8013 - val_accuracy: 0.1825\n",
            "Epoch 11/50\n",
            "50/50 [==============================] - 2s 33ms/step - loss: 1.7837 - accuracy: 0.2025 - val_loss: 1.8063 - val_accuracy: 0.1850\n",
            "Epoch 12/50\n",
            "50/50 [==============================] - 1s 18ms/step - loss: 1.7772 - accuracy: 0.2113 - val_loss: 1.8112 - val_accuracy: 0.1950\n",
            "Epoch 13/50\n",
            "50/50 [==============================] - 1s 20ms/step - loss: 1.7791 - accuracy: 0.2000 - val_loss: 1.8132 - val_accuracy: 0.2000\n",
            "Epoch 14/50\n",
            "50/50 [==============================] - 1s 19ms/step - loss: 1.7823 - accuracy: 0.2125 - val_loss: 1.8111 - val_accuracy: 0.1725\n",
            "Epoch 15/50\n",
            "50/50 [==============================] - 1s 19ms/step - loss: 1.7798 - accuracy: 0.2169 - val_loss: 1.8058 - val_accuracy: 0.1675\n",
            "Epoch 16/50\n",
            "50/50 [==============================] - 1s 18ms/step - loss: 1.7675 - accuracy: 0.2200 - val_loss: 1.8042 - val_accuracy: 0.2025\n",
            "Epoch 17/50\n",
            "50/50 [==============================] - 1s 18ms/step - loss: 1.7721 - accuracy: 0.2181 - val_loss: 1.7965 - val_accuracy: 0.1825\n",
            "Epoch 18/50\n",
            "50/50 [==============================] - 1s 19ms/step - loss: 1.7719 - accuracy: 0.2050 - val_loss: 1.8029 - val_accuracy: 0.2025\n",
            "Epoch 19/50\n",
            "50/50 [==============================] - 1s 19ms/step - loss: 1.7639 - accuracy: 0.2250 - val_loss: 1.8082 - val_accuracy: 0.1925\n",
            "Epoch 20/50\n",
            "50/50 [==============================] - 1s 18ms/step - loss: 1.7717 - accuracy: 0.2181 - val_loss: 1.7986 - val_accuracy: 0.1825\n",
            "Epoch 21/50\n",
            "50/50 [==============================] - 1s 19ms/step - loss: 1.7611 - accuracy: 0.2406 - val_loss: 1.8085 - val_accuracy: 0.2025\n",
            "Epoch 22/50\n",
            "50/50 [==============================] - 1s 23ms/step - loss: 1.7781 - accuracy: 0.2113 - val_loss: 1.8112 - val_accuracy: 0.2025\n",
            "Epoch 23/50\n",
            "50/50 [==============================] - 2s 31ms/step - loss: 1.7604 - accuracy: 0.2294 - val_loss: 1.8107 - val_accuracy: 0.1750\n",
            "Epoch 24/50\n",
            "50/50 [==============================] - 1s 19ms/step - loss: 1.7673 - accuracy: 0.2338 - val_loss: 1.8320 - val_accuracy: 0.1775\n",
            "Epoch 25/50\n",
            "50/50 [==============================] - 1s 18ms/step - loss: 1.7624 - accuracy: 0.2244 - val_loss: 1.7895 - val_accuracy: 0.2075\n",
            "Epoch 26/50\n",
            "50/50 [==============================] - 1s 18ms/step - loss: 1.7510 - accuracy: 0.2362 - val_loss: 1.7914 - val_accuracy: 0.1875\n",
            "Epoch 27/50\n",
            "50/50 [==============================] - 1s 19ms/step - loss: 1.7490 - accuracy: 0.2369 - val_loss: 1.8087 - val_accuracy: 0.1925\n",
            "Epoch 28/50\n",
            "50/50 [==============================] - 1s 19ms/step - loss: 1.7388 - accuracy: 0.2512 - val_loss: 1.7975 - val_accuracy: 0.1975\n",
            "Epoch 29/50\n",
            "50/50 [==============================] - 1s 19ms/step - loss: 1.7299 - accuracy: 0.2500 - val_loss: 1.8248 - val_accuracy: 0.1875\n",
            "Epoch 30/50\n",
            "50/50 [==============================] - 1s 20ms/step - loss: 1.7295 - accuracy: 0.2575 - val_loss: 1.8092 - val_accuracy: 0.2050\n",
            "Epoch 31/50\n",
            "50/50 [==============================] - 1s 19ms/step - loss: 1.7176 - accuracy: 0.2713 - val_loss: 1.7888 - val_accuracy: 0.1925\n",
            "Epoch 32/50\n",
            "50/50 [==============================] - 1s 19ms/step - loss: 1.7223 - accuracy: 0.2656 - val_loss: 1.8122 - val_accuracy: 0.2075\n",
            "Epoch 33/50\n",
            "50/50 [==============================] - 1s 20ms/step - loss: 1.7113 - accuracy: 0.2700 - val_loss: 1.7855 - val_accuracy: 0.2250\n",
            "Epoch 34/50\n",
            "50/50 [==============================] - 1s 26ms/step - loss: 1.7143 - accuracy: 0.2650 - val_loss: 1.7716 - val_accuracy: 0.2150\n",
            "Epoch 35/50\n",
            "50/50 [==============================] - 1s 29ms/step - loss: 1.7046 - accuracy: 0.2731 - val_loss: 1.7888 - val_accuracy: 0.2050\n",
            "Epoch 36/50\n",
            "50/50 [==============================] - 1s 18ms/step - loss: 1.6968 - accuracy: 0.2763 - val_loss: 1.7903 - val_accuracy: 0.2450\n",
            "Epoch 37/50\n",
            "50/50 [==============================] - 1s 18ms/step - loss: 1.7029 - accuracy: 0.2694 - val_loss: 1.7912 - val_accuracy: 0.2325\n",
            "Epoch 38/50\n",
            "50/50 [==============================] - 1s 18ms/step - loss: 1.6678 - accuracy: 0.2887 - val_loss: 1.8207 - val_accuracy: 0.1925\n",
            "Epoch 39/50\n",
            "50/50 [==============================] - 1s 19ms/step - loss: 1.6563 - accuracy: 0.2988 - val_loss: 1.8157 - val_accuracy: 0.2100\n",
            "Epoch 40/50\n",
            "50/50 [==============================] - 1s 20ms/step - loss: 1.6574 - accuracy: 0.3131 - val_loss: 1.7907 - val_accuracy: 0.2250\n",
            "Epoch 41/50\n",
            "50/50 [==============================] - 1s 20ms/step - loss: 1.6423 - accuracy: 0.3075 - val_loss: 1.8124 - val_accuracy: 0.2175\n",
            "Epoch 42/50\n",
            "50/50 [==============================] - 1s 21ms/step - loss: 1.6361 - accuracy: 0.3181 - val_loss: 1.7931 - val_accuracy: 0.2200\n",
            "Epoch 43/50\n",
            "50/50 [==============================] - 1s 21ms/step - loss: 1.6252 - accuracy: 0.3113 - val_loss: 1.8360 - val_accuracy: 0.1875\n",
            "Epoch 44/50\n",
            "50/50 [==============================] - 1s 19ms/step - loss: 1.6192 - accuracy: 0.3200 - val_loss: 1.8444 - val_accuracy: 0.2075\n",
            "Epoch 45/50\n",
            "50/50 [==============================] - 1s 21ms/step - loss: 1.6026 - accuracy: 0.3363 - val_loss: 1.8334 - val_accuracy: 0.2125\n",
            "Epoch 46/50\n",
            "50/50 [==============================] - 2s 32ms/step - loss: 1.5951 - accuracy: 0.3506 - val_loss: 1.8168 - val_accuracy: 0.2175\n",
            "Epoch 47/50\n",
            "50/50 [==============================] - 1s 21ms/step - loss: 1.5645 - accuracy: 0.3631 - val_loss: 1.8219 - val_accuracy: 0.2275\n",
            "Epoch 48/50\n",
            "50/50 [==============================] - 1s 20ms/step - loss: 1.5505 - accuracy: 0.3544 - val_loss: 1.8686 - val_accuracy: 0.2200\n",
            "Epoch 49/50\n",
            "50/50 [==============================] - 1s 21ms/step - loss: 1.5368 - accuracy: 0.3744 - val_loss: 1.8648 - val_accuracy: 0.2375\n",
            "Epoch 50/50\n",
            "50/50 [==============================] - 1s 19ms/step - loss: 1.5596 - accuracy: 0.3675 - val_loss: 1.8684 - val_accuracy: 0.1950\n"
          ]
        }
      ]
    },
    {
      "cell_type": "code",
      "source": [
        "# merged dataset\n",
        "max_story_len = 6\n",
        "\n",
        "mem_4 = MemNN(vocab, max_query_len=1, max_story_len=10, vocab_size=1000, embedding_size=128, k=5)\n",
        "mem_4.batch_size = 32\n",
        "\n",
        "mem_4.compile()\n",
        "\n",
        "mem_4.fit(stories[max_story_len-1], questions[max_story_len-1].reshape(-1,1), answers[max_story_len-1], epochs=50, validation_split=0.2)\n",
        "\n",
        "\n",
        "mem_4.fit(merged_stories, merged_questions, merged_answers, epochs=150, validation_split=0.2, shuffle=True)"
      ],
      "metadata": {
        "colab": {
          "base_uri": "https://localhost:8080/"
        },
        "id": "IKsYpLV_1V9e",
        "outputId": "0d08587c-92d9-4c95-db31-7745b06c2312"
      },
      "execution_count": null,
      "outputs": [
        {
          "output_type": "stream",
          "name": "stdout",
          "text": [
            "Epoch 1/50\n",
            "50/50 [==============================] - 7s 54ms/step - loss: 2.3942 - accuracy: 0.0913 - val_loss: 1.9258 - val_accuracy: 0.1600\n",
            "Epoch 2/50\n",
            "50/50 [==============================] - 1s 19ms/step - loss: 1.8424 - accuracy: 0.1750 - val_loss: 1.8109 - val_accuracy: 0.1750\n",
            "Epoch 3/50\n",
            "50/50 [==============================] - 1s 20ms/step - loss: 1.8216 - accuracy: 0.1681 - val_loss: 1.8086 - val_accuracy: 0.1600\n",
            "Epoch 4/50\n",
            "50/50 [==============================] - 1s 19ms/step - loss: 1.8004 - accuracy: 0.1825 - val_loss: 1.8004 - val_accuracy: 0.1800\n",
            "Epoch 5/50\n",
            "50/50 [==============================] - 1s 19ms/step - loss: 1.7992 - accuracy: 0.1831 - val_loss: 1.8052 - val_accuracy: 0.1775\n",
            "Epoch 6/50\n",
            "50/50 [==============================] - 1s 19ms/step - loss: 1.7959 - accuracy: 0.1850 - val_loss: 1.8205 - val_accuracy: 0.1450\n",
            "Epoch 7/50\n",
            "50/50 [==============================] - 1s 19ms/step - loss: 1.7898 - accuracy: 0.2062 - val_loss: 1.8071 - val_accuracy: 0.1725\n",
            "Epoch 8/50\n",
            "50/50 [==============================] - 1s 19ms/step - loss: 1.7840 - accuracy: 0.2094 - val_loss: 1.7981 - val_accuracy: 0.1725\n",
            "Epoch 9/50\n",
            "50/50 [==============================] - 1s 20ms/step - loss: 1.7810 - accuracy: 0.2050 - val_loss: 1.7807 - val_accuracy: 0.2125\n",
            "Epoch 10/50\n",
            "50/50 [==============================] - 1s 19ms/step - loss: 1.7753 - accuracy: 0.2188 - val_loss: 1.7965 - val_accuracy: 0.2025\n",
            "Epoch 11/50\n",
            "50/50 [==============================] - 1s 19ms/step - loss: 1.7782 - accuracy: 0.2188 - val_loss: 1.7909 - val_accuracy: 0.2050\n",
            "Epoch 12/50\n",
            "50/50 [==============================] - 2s 31ms/step - loss: 1.7623 - accuracy: 0.2163 - val_loss: 1.7809 - val_accuracy: 0.2425\n",
            "Epoch 13/50\n",
            "50/50 [==============================] - 1s 24ms/step - loss: 1.7619 - accuracy: 0.2219 - val_loss: 1.8000 - val_accuracy: 0.1875\n",
            "Epoch 14/50\n",
            "50/50 [==============================] - 1s 18ms/step - loss: 1.7696 - accuracy: 0.2194 - val_loss: 1.8036 - val_accuracy: 0.1825\n",
            "Epoch 15/50\n",
            "50/50 [==============================] - 1s 20ms/step - loss: 1.7697 - accuracy: 0.2163 - val_loss: 1.7887 - val_accuracy: 0.1975\n",
            "Epoch 16/50\n",
            "50/50 [==============================] - 1s 20ms/step - loss: 1.7740 - accuracy: 0.2013 - val_loss: 1.8068 - val_accuracy: 0.1800\n",
            "Epoch 17/50\n",
            "50/50 [==============================] - 1s 19ms/step - loss: 1.7691 - accuracy: 0.2275 - val_loss: 1.7979 - val_accuracy: 0.1700\n",
            "Epoch 18/50\n",
            "50/50 [==============================] - 1s 19ms/step - loss: 1.7642 - accuracy: 0.2188 - val_loss: 1.7911 - val_accuracy: 0.2350\n",
            "Epoch 19/50\n",
            "50/50 [==============================] - 1s 19ms/step - loss: 1.7625 - accuracy: 0.2138 - val_loss: 1.7775 - val_accuracy: 0.1825\n",
            "Epoch 20/50\n",
            "50/50 [==============================] - 1s 18ms/step - loss: 1.7635 - accuracy: 0.2138 - val_loss: 1.7998 - val_accuracy: 0.1825\n",
            "Epoch 21/50\n",
            "50/50 [==============================] - 1s 20ms/step - loss: 1.7538 - accuracy: 0.2319 - val_loss: 1.7954 - val_accuracy: 0.1925\n",
            "Epoch 22/50\n",
            "50/50 [==============================] - 1s 18ms/step - loss: 1.7563 - accuracy: 0.2288 - val_loss: 1.7826 - val_accuracy: 0.2100\n",
            "Epoch 23/50\n",
            "50/50 [==============================] - 1s 21ms/step - loss: 1.7434 - accuracy: 0.2344 - val_loss: 1.7827 - val_accuracy: 0.1975\n",
            "Epoch 24/50\n",
            "50/50 [==============================] - 2s 33ms/step - loss: 1.7530 - accuracy: 0.2244 - val_loss: 1.7898 - val_accuracy: 0.2075\n",
            "Epoch 25/50\n",
            "50/50 [==============================] - 1s 21ms/step - loss: 1.7487 - accuracy: 0.2431 - val_loss: 1.7937 - val_accuracy: 0.1800\n",
            "Epoch 26/50\n",
            "50/50 [==============================] - 1s 18ms/step - loss: 1.7554 - accuracy: 0.2256 - val_loss: 1.8177 - val_accuracy: 0.1725\n",
            "Epoch 27/50\n",
            "50/50 [==============================] - 1s 19ms/step - loss: 1.7591 - accuracy: 0.2188 - val_loss: 1.8130 - val_accuracy: 0.2000\n",
            "Epoch 28/50\n",
            "50/50 [==============================] - 1s 18ms/step - loss: 1.7449 - accuracy: 0.2356 - val_loss: 1.7848 - val_accuracy: 0.1850\n",
            "Epoch 29/50\n",
            "50/50 [==============================] - 1s 19ms/step - loss: 1.7427 - accuracy: 0.2344 - val_loss: 1.7914 - val_accuracy: 0.1725\n",
            "Epoch 30/50\n",
            "50/50 [==============================] - 1s 19ms/step - loss: 1.7458 - accuracy: 0.2475 - val_loss: 1.7886 - val_accuracy: 0.1925\n",
            "Epoch 31/50\n",
            "50/50 [==============================] - 1s 29ms/step - loss: 1.7252 - accuracy: 0.2512 - val_loss: 1.7969 - val_accuracy: 0.2000\n",
            "Epoch 32/50\n",
            "50/50 [==============================] - 1s 25ms/step - loss: 1.7198 - accuracy: 0.2456 - val_loss: 1.7689 - val_accuracy: 0.1950\n",
            "Epoch 33/50\n",
            "50/50 [==============================] - 1s 19ms/step - loss: 1.7331 - accuracy: 0.2512 - val_loss: 1.8068 - val_accuracy: 0.2125\n",
            "Epoch 34/50\n",
            "50/50 [==============================] - 1s 19ms/step - loss: 1.7284 - accuracy: 0.2625 - val_loss: 1.7883 - val_accuracy: 0.1875\n",
            "Epoch 35/50\n",
            "50/50 [==============================] - 2s 31ms/step - loss: 1.7147 - accuracy: 0.2681 - val_loss: 1.7832 - val_accuracy: 0.2100\n",
            "Epoch 36/50\n",
            "50/50 [==============================] - 1s 23ms/step - loss: 1.7089 - accuracy: 0.2606 - val_loss: 1.7705 - val_accuracy: 0.2075\n",
            "Epoch 37/50\n",
            "50/50 [==============================] - 1s 19ms/step - loss: 1.6829 - accuracy: 0.2694 - val_loss: 1.7935 - val_accuracy: 0.2075\n",
            "Epoch 38/50\n",
            "50/50 [==============================] - 1s 20ms/step - loss: 1.6786 - accuracy: 0.2912 - val_loss: 1.7598 - val_accuracy: 0.2300\n",
            "Epoch 39/50\n",
            "50/50 [==============================] - 1s 18ms/step - loss: 1.6520 - accuracy: 0.3075 - val_loss: 1.7870 - val_accuracy: 0.2300\n",
            "Epoch 40/50\n",
            "50/50 [==============================] - 1s 18ms/step - loss: 1.6722 - accuracy: 0.2900 - val_loss: 1.8108 - val_accuracy: 0.2025\n",
            "Epoch 41/50\n",
            "50/50 [==============================] - 1s 19ms/step - loss: 1.6664 - accuracy: 0.2912 - val_loss: 1.7833 - val_accuracy: 0.2325\n",
            "Epoch 42/50\n",
            "50/50 [==============================] - 1s 19ms/step - loss: 1.6204 - accuracy: 0.3119 - val_loss: 1.7672 - val_accuracy: 0.2275\n",
            "Epoch 43/50\n",
            "50/50 [==============================] - 1s 18ms/step - loss: 1.6309 - accuracy: 0.3162 - val_loss: 1.7383 - val_accuracy: 0.2550\n",
            "Epoch 44/50\n",
            "50/50 [==============================] - 1s 19ms/step - loss: 1.6226 - accuracy: 0.3144 - val_loss: 1.7856 - val_accuracy: 0.2250\n",
            "Epoch 45/50\n",
            "50/50 [==============================] - 1s 20ms/step - loss: 1.6166 - accuracy: 0.3225 - val_loss: 1.8137 - val_accuracy: 0.2025\n",
            "Epoch 46/50\n",
            "50/50 [==============================] - 1s 20ms/step - loss: 1.6095 - accuracy: 0.3194 - val_loss: 1.7647 - val_accuracy: 0.2325\n",
            "Epoch 47/50\n",
            "50/50 [==============================] - 2s 32ms/step - loss: 1.5834 - accuracy: 0.3319 - val_loss: 1.8047 - val_accuracy: 0.2075\n",
            "Epoch 48/50\n",
            "50/50 [==============================] - 1s 21ms/step - loss: 1.5858 - accuracy: 0.3225 - val_loss: 1.7506 - val_accuracy: 0.2350\n",
            "Epoch 49/50\n",
            "50/50 [==============================] - 1s 19ms/step - loss: 1.5857 - accuracy: 0.3269 - val_loss: 1.7905 - val_accuracy: 0.2275\n",
            "Epoch 50/50\n",
            "50/50 [==============================] - 1s 20ms/step - loss: 1.5497 - accuracy: 0.3481 - val_loss: 1.8340 - val_accuracy: 0.1950\n",
            "Epoch 1/150\n",
            "250/250 [==============================] - 6s 22ms/step - loss: 1.6673 - accuracy: 0.3019 - val_loss: 1.8598 - val_accuracy: 0.1930\n",
            "Epoch 2/150\n",
            "147/250 [================>.............] - ETA: 1s - loss: 1.6292 - accuracy: 0.3255"
          ]
        }
      ]
    }
  ]
}